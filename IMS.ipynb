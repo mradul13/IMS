{
  "nbformat": 4,
  "nbformat_minor": 0,
  "metadata": {
    "colab": {
      "name": "IMS.ipynb",
      "provenance": [],
      "authorship_tag": "ABX9TyP2NogdsEm3v5/W+lW9spcL",
      "include_colab_link": true
    },
    "kernelspec": {
      "name": "python3",
      "display_name": "Python 3"
    },
    "language_info": {
      "name": "python"
    }
  },
  "cells": [
    {
      "cell_type": "markdown",
      "metadata": {
        "id": "view-in-github",
        "colab_type": "text"
      },
      "source": [
        "<a href=\"https://colab.research.google.com/github/mradul13/IMS/blob/main/IMS.ipynb\" target=\"_parent\"><img src=\"https://colab.research.google.com/assets/colab-badge.svg\" alt=\"Open In Colab\"/></a>"
      ]
    },
    {
      "cell_type": "code",
      "metadata": {
        "id": "d0Ovnawz6gh-"
      },
      "source": [
        ""
      ],
      "execution_count": null,
      "outputs": []
    },
    {
      "cell_type": "code",
      "metadata": {
        "id": "Nx_rg3nPkoL-"
      },
      "source": [
        "inventory = {\n",
        "    1200 : {\"item\": \"Amoxicillin\" , \"price\" : 80 , \"quantity\" : 30 , \"category\": \"Antibiotic\" , \"rating\": 9},\n",
        "    1201 : {\"item\": \"Azithromycin\" , \"price\" : 80 , \"quantity\" : 100 , \"category\": \"Antibiotic\" , \"rating\": 8},     \n",
        "    1202 : {\"item\": \"Paracetamol\" , \"price\" : 40 , \"quantity\" : 10 , \"category\": \"Antipyretic\", \"rating\": 7}, \n",
        "    1203 : {\"item\": \"Albuterol\" , \"price\" : 10 , \"quantity\" : 100 , \"category\": \"Dilator\", \"rating\": 8}, \n",
        "    1204 : {\"item\": \"Amoxicillin(s)\" , \"price\" : 10 , \"quantity\" : 100 , \"category\": \"AntiBActerial\",\"rating\": 7},   \n",
        "    1205 : {\"item\": \"Amoxicillin(m)\" , \"price\" : 20 , \"quantity\" : 100 , \"category\": \"AntiBActerial\", \"rating\": 8}, \n",
        "    1206 : {\"item\": \"Amocixillin(l)\" , \"price\" : 40 , \"quantity\" : 50 , \"category\": \"AntiBActerial\", \"rating\": 6},   \n",
        "    1207 : {\"item\": \"Cefdinir(s)\" , \"price\" : 10 , \"quantity\" : 300 , \"category\": \"AntiBacterial\", \"rating\": 5},   \n",
        "    1207 : {\"item\": \"Cefdinir(s)\" , \"price\" : 10 , \"quantity\" : 300 , \"category\": \"AntiBacterial\", \"rating\": 5},   \n",
        "    1208 : {\"item\": \"Cefdinir(m)\" , \"price\" : 40 , \"quantity\" : 400 , \"category\": \"AntiBacterial\",\"rating\": 4},   \n",
        "    1209 : {\"item\": \"Cephalexin\" , \"price\" : 10 , \"quantity\" : 500 , \"category\": \"AntiBacterial\",\"rating\": 10},    \n",
        "    1210 : {\"item\": \"Fluticasone\" , \"price\" : 1 , \"quantity\" : 1000 , \"category\": \"Steroid\", \"rating\": 9},    \n",
        "    1211 : {\"item\": \"Predisolone\" , \"price\" : 1 , \"quantity\" : 1000 , \"category\": \"Steroid\",\"rating\": 8}, \n",
        "    1212 : {\"item\": \"Ibuprofen\" , \"price\" : 10 , \"quantity\" : 200 , \"category\": \"AntiInflammatory\",\"rating\": 7},     \n",
        "    1213 : {\"item\": \"Singulair\" , \"price\" : 100 , \"quantity\" : 100 , \"category\": \"AntiAllergent\",\"rating\": 2},      \n",
        "    1214 : {\"item\": \"Trimethoprim\" , \"price\" : 5 , \"quantity\" : 200 , \"category\": \"Antboitic\",\"rating\": 3},     \n",
        "    1215 : {\"item\": \"Tylenol\" , \"price\" : 70 , \"quantity\" : 80 , \"category\": \"PainKiller\",\"rating\": 4},     \n",
        "    1216 : {\"item\": \"Vicodin\" , \"price\" : 30 , \"quantity\" : 80 , \"category\": \"Painkiller\",\"rating\": 5},    \n",
        "    1217 : {\"item\": \"Mupirocin\" , \"price\" : 100 , \"quantity\" : 90 , \"category\": \"AntiBacterial\",\"rating\": 8},    \n",
        "    1218 : {\"item\": \"Nystatin\" , \"price\" : 120 , \"quantity\" : 40 , \"category\": \"AntiFungal\",\"rating\": 9},   \n",
        "    1219 : {\"item\": \"Dextromorphan(m)\" , \"price\" : 20 , \"quantity\" : 100 , \"category\": \"Antihistamine\",\"rating\": 8}, \n",
        "    1220 : {\"item\": \"Dextromorphan(l)\" , \"price\" : 50 , \"quantity\" : 300 , \"category\": \"Antihistamine\",\"rating\": 10}, \n",
        "    1221 : {\"item\": \"Phenilephrine\" , \"price\" : 10 , \"quantity\" : 200 , \"category\": \"Antihistamine\",\"rating\": 7},     \n",
        "    1222 : {\"item\": \"Triamcinolon\" , \"price\" : 100 , \"quantity\" : 100 , \"category\": \"Steroid\",\"rating\": 2},      \n",
        "    1223 : {\"item\": \"Prednison\" , \"price\" : 5 , \"quantity\" : 200 , \"category\": \"Steroid\",\"rating\": 3},     \n",
        "    1224 : {\"item\": \"Hydrocortisone\" , \"price\" : 70 , \"quantity\" : 80 , \"category\": \"Steroid\",\"rating\": 4},     \n",
        "    1225 : {\"item\": \"Limcee\" , \"price\" : 30 , \"quantity\" : 80 , \"category\": \"Supplement\",\"rating\": 5},    \n",
        "    1226 : {\"item\": \"Becosules\" , \"price\" : 100 , \"quantity\" : 90 , \"category\": \"Supplement\",\"rating\": 8},    \n",
        "    1227 : {\"item\": \"Budenoside\" , \"price\" : 120 , \"quantity\" : 40 , \"category\": \"Steroid\",\"rating\": 9},   \n",
        "    1228 : {\"item\": \"Ciproflaxxin(m)\" , \"price\" : 20 , \"quantity\" : 100 , \"category\": \"Antibiotic\",\"rating\": 8}, \n",
        "    1229 : {\"item\": \"Ciproflaxine(l)\" , \"price\" : 50 , \"quantity\" : 300 , \"category\": \"Antibiotic\",\"rating\": 10}\n",
        "    \n",
        "    \n",
        "} \n"
      ],
      "execution_count": 1,
      "outputs": []
    },
    {
      "cell_type": "code",
      "metadata": {
        "colab": {
          "base_uri": "https://localhost:8080/"
        },
        "id": "ATnhOP8W66SD",
        "outputId": "871fdc28-886c-4068-c24a-588104473f5c"
      },
      "source": [
        "ui_product = int(input(\"Enter product ID:\"))\n",
        "ui_quantity = int(input(\"Enter Quantity:\"))\n",
        "\n",
        "product = inventory.get(ui_product)\n",
        "\n",
        "if product:\n",
        "  print('product name: ',product.get('item'))\n",
        "  print('price per unit: ', product.get('price'))\n",
        "  print('amount to be paid: ', ui_quantity*product.get('price'))\n",
        "  product['quantity']-=ui_quantity\n",
        "else:\n",
        "  print('product not found')\n"
      ],
      "execution_count": 3,
      "outputs": [
        {
          "output_type": "stream",
          "name": "stdout",
          "text": [
            "Enter product ID:1229\n",
            "Enter Quantity:4\n",
            "product name:  Ciproflaxine(l)\n",
            "price per unit:  50\n",
            "amount to be paid:  200\n"
          ]
        }
      ]
    },
    {
      "cell_type": "code",
      "metadata": {
        "id": "mCrQxhp37iTo"
      },
      "source": [
        "import json\n",
        "\n",
        "file = open('pharmacy.json', 'w')\n",
        "json.dump(inventory, file )\n",
        "\n",
        "#$print(json_inventory)"
      ],
      "execution_count": 4,
      "outputs": []
    }
  ]
}